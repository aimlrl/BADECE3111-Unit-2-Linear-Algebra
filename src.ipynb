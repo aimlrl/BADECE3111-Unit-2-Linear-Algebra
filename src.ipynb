{
 "cells": [
  {
   "cell_type": "code",
   "execution_count": 5,
   "id": "6a1a87cf",
   "metadata": {},
   "outputs": [],
   "source": [
    "import numpy as np\n",
    "import matplotlib.pyplot as plt"
   ]
  },
  {
   "cell_type": "markdown",
   "id": "50bb1dfa",
   "metadata": {},
   "source": [
    "## Let's take a 2X2 Matrix, $A$ and multiply it with a column vector, $\\vec{x}$ on the right hand side where matrix $A$ and $\\vec{x}$ is given as:"
   ]
  },
  {
   "cell_type": "markdown",
   "id": "78e6c216",
   "metadata": {},
   "source": [
    "$$\n",
    "\\huge\n",
    "A =\n",
    "\\begin{bmatrix}\n",
    "1 & 3\\\\\n",
    "2 & 4\n",
    "\\end{bmatrix}\n",
    "$$\n",
    "\n",
    "$$\n",
    "\\huge\n",
    "\\vec{x} = \n",
    "\\begin{bmatrix}\n",
    "1\\\\\n",
    "1\n",
    "\\end{bmatrix}\n",
    "$$"
   ]
  },
  {
   "cell_type": "markdown",
   "id": "6e84a708",
   "metadata": {},
   "source": [
    "## If it is carefully noticed above then it can be said any matrix which has a single column or single row is called a column vector or a row vector, respectively. Furthermore, another notation which is universal to the convention in Linear Algebra is: **A matrix which has a single row or a row vector can be treated as a transposed matrix.** "
   ]
  },
  {
   "cell_type": "markdown",
   "id": "5ee9a432",
   "metadata": {},
   "source": [
    "## A Matrix as you know, is a collection of row or column vectors. Therefore, it can be said that a matrix, $A$ with two row vectors can be written as:\n",
    "\n",
    "$$\n",
    "\\huge\n",
    "A = \n",
    "\\begin{bmatrix}\n",
    "\\leftarrow & \\vec{r_1}^T & \\rightarrow\\\\\n",
    "\\leftarrow & \\vec{r_2}^T & \\rightarrow\n",
    "\\end{bmatrix}\n",
    "$$\n",
    "\n",
    "## Where, \n",
    "\n",
    "$$\n",
    "\\huge\n",
    "\\vec{r_1}^T = \n",
    "\\begin{bmatrix}\n",
    "1 & 3\n",
    "\\end{bmatrix}\n",
    "$$\n",
    "\n",
    "$$\n",
    "\\huge\n",
    "\\vec{r_2}^T =\n",
    "\\begin{bmatrix}\n",
    "2 & 4\n",
    "\\end{bmatrix}\n",
    "$$\n",
    "\n",
    "## or with two column vectors, can be written as:\n",
    "\n",
    "$$\n",
    "\\huge\n",
    "A = \n",
    "\\begin{bmatrix}\n",
    "\\uparrow & \\uparrow\\\\\n",
    "\\vec{c_1} & \\vec{c_2}\\\\\n",
    "\\downarrow & \\downarrow\n",
    "\\end{bmatrix}\n",
    "$$\n",
    "\n",
    "## Where,\n",
    "\n",
    "$$\n",
    "\\huge\n",
    "\\vec{c_1} = \n",
    "\\begin{bmatrix}\n",
    "1\\\\\n",
    "2\n",
    "\\end{bmatrix}\n",
    "$$\n",
    "\n",
    "$$\n",
    "\\huge\n",
    "\\vec{c_2} =\n",
    "\\begin{bmatrix}\n",
    "3\\\\\n",
    "4\n",
    "\\end{bmatrix}\n",
    "$$"
   ]
  },
  {
   "cell_type": "markdown",
   "id": "16295324",
   "metadata": {},
   "source": [
    "## What if matrix $A$ is multiplied with column vector $\\vec{x}$ on the right hand side of matrix $A$ ??? The first question which arrises is that: **CAN THEY BE MULTIPLIED ???** "
   ]
  },
  {
   "cell_type": "markdown",
   "id": "91dce09f",
   "metadata": {},
   "source": [
    "## In order to answer this question, we have to check whether number of rows/columns in the size (**also called ```shape``` in the context of NumPy ```array```**) of a matrices (involved in multiplication) which is often written in the form of a ``` tuple``` as: \n",
    "\n",
    "$$\n",
    "\\Large\n",
    "(\\text{Number of Rows}, \\text{Number of Columns})\n",
    "$$\n",
    "\n",
    "## As it can be observed that $\\text{Number of Rows}$ or Row Dimension lies on the $0$ index of the ```tuple```, therefore Row Dimension is also called ```axis 0``` and $\\text{Number of Columns}$ or Column Dimension lies on the $1$ index of the ```tuple```, therefore Column Dimension is called ```axis 1```. "
   ]
  },
  {
   "cell_type": "markdown",
   "id": "d019523c",
   "metadata": {},
   "source": [
    "## In order for the Matrix Multiplication to succeed, one very important condition needs to be met and that is: **the size of the dimension in the last axis of the matrix on the left hand side (size of ```axis 1``` or number of columns in our case of 2x2 Matrix) should be equal to the size of dimension in the first axis of the matrix on the right hand side (size of ```axis 0``` or number of rows in our case of 2x2 Matrix)**"
   ]
  },
  {
   "cell_type": "markdown",
   "id": "d22ce599",
   "metadata": {},
   "source": [
    "## But now the question arrises is that **what will be the size of the result of Matrix Multiplication if it suceeds?**\n",
    "\n",
    "## **The Answer is pretty simple:** Just remove the participating last ```axis``` from the left hand side matrix and first ```axis``` from the right hand side matrix and concatenate rest of the dimensions' sizes in the left hand side matrix with the rest of the dimensions' sizes in the right hand side matrix."
   ]
  },
  {
   "cell_type": "markdown",
   "id": "5dfdb9b1",
   "metadata": {},
   "source": [
    "## We can take several examples in the form of table below:\n",
    "\n",
    "$$\n",
    "\\large\n",
    "\\begin{array}{|c|c|c|c|}\n",
    "\\hline\n",
    "\\textbf{LHS Matrix Size} & \\textbf{RHS Matrix Size} & \\textbf{Multiply Possible} & \\textbf{Result Size}\\\\\n",
    "\\hline\n",
    "(2,2) & (2,1) & \\text{Yes} & (2,1)\\\\\n",
    "(2,2) & (1,2) & \\text{No} & \\text{NA}\\\\\n",
    "(1,2) & (2,2) & \\text{Yes} & (1,2)\\\\\n",
    "(1,2) & (2,1) & \\text{Yes} & (1,1)\\\\\n",
    "(5,3) & (3,7) & \\text{Yes} & (5,7)\\\\\n",
    "(5,3,2) & (2,1) & \\text{Yes} & (5,3,1)\\\\\n",
    "(5,2,3) & (2,1) & \\text{No} & \\text{NA}\\\\\n",
    "\\hline\n",
    "\\end{array}\n",
    "$$"
   ]
  },
  {
   "cell_type": "markdown",
   "id": "6a007ff4",
   "metadata": {},
   "source": [
    "## Therefore, in our case:\n",
    "\n",
    "$$\n",
    "\\huge\n",
    "\\begin{bmatrix}\n",
    "1 & 3\\\\\n",
    "2 & 4\n",
    "\\end{bmatrix}\n",
    "\\cdot\n",
    "\\begin{bmatrix}\n",
    "1\\\\\n",
    "1\n",
    "\\end{bmatrix}\n",
    "=\n",
    "\\begin{bmatrix}\n",
    "3\\\\\n",
    "6\n",
    "\\end{bmatrix}\n",
    "$$"
   ]
  },
  {
   "cell_type": "markdown",
   "id": "966675e4",
   "metadata": {},
   "source": [
    "## But, how do we get the result as:\n",
    "$$\n",
    "\\huge \n",
    "\\begin{bmatrix}\n",
    "4\\\\\n",
    "6\n",
    "\\end{bmatrix}\n",
    "$$"
   ]
  },
  {
   "cell_type": "markdown",
   "id": "ec67f93b",
   "metadata": {},
   "source": [
    "$$\n",
    "\\textbf{This result can be achieved in two ways:}\\\\[10pt]\n",
    "\\textbf{1.} \\text{Looking at the vectors inside the matrix as row vectors.}\\\\\n",
    "\\textbf{2.} \\text{Looking at the vectors inside the matrix as column vectors.}\n",
    "$$"
   ]
  },
  {
   "cell_type": "markdown",
   "id": "39fadf7d",
   "metadata": {},
   "source": [
    "## **1.** Let's look at the vectors inside the matrix as row vectors:\n",
    "$$\n",
    "\\huge\n",
    "\\begin{bmatrix}\n",
    "\\leftarrow & \\vec{r_1}^T & \\rightarrow\\\\\n",
    "\\leftarrow & \\vec{r_2}^T & \\rightarrow\n",
    "\\end{bmatrix}\n",
    "\\cdot\n",
    "\\begin{bmatrix}\n",
    "\\uparrow\\\\\n",
    "\\vec{x}\\\\\n",
    "\\downarrow\n",
    "\\end{bmatrix}\n",
    "=\n",
    "\\begin{bmatrix}\n",
    "\\vec{r_1}^T\\cdot{\\vec{x}}\\\\\n",
    "\\vec{r_2}^T\\cdot{\\vec{x}}\n",
    "\\end{bmatrix}\n",
    "$$\n",
    "## Which can be further written as:\n",
    "$$\n",
    "\\huge\n",
    "\\begin{bmatrix}\n",
    "\\begin{bmatrix}\n",
    "1 & 3\n",
    "\\end{bmatrix}\\\\\n",
    "\\begin{bmatrix}\n",
    "2 & 4\n",
    "\\end{bmatrix}\n",
    "\\end{bmatrix}\n",
    "\\cdot\n",
    "\\begin{bmatrix}\n",
    "1\\\\\n",
    "1\n",
    "\\end{bmatrix}\n",
    "=\n",
    "\\begin{bmatrix}\n",
    "4\\\\\n",
    "6\n",
    "\\end{bmatrix}\n",
    "$$\n",
    "## Where:\n",
    "$$\n",
    "\\huge\n",
    "\\vec{r_1}^T = \n",
    "\\begin{bmatrix}\n",
    "1 & 3\n",
    "\\end{bmatrix}\n",
    "$$\n",
    "## and\n",
    "$$\n",
    "\\huge\n",
    "\\vec{r_2}^T =\n",
    "\\begin{bmatrix}\n",
    "2 & 4\n",
    "\\end{bmatrix}\n",
    "$$"
   ]
  },
  {
   "cell_type": "markdown",
   "id": "74d19fa6",
   "metadata": {},
   "source": [
    "## **2.** Let's look at the vectors inside the matrix as column vectors:\n",
    "$$\n",
    "\\huge\n",
    "\\begin{bmatrix}\n",
    "\\uparrow & \\uparrow\\\\\n",
    "\\vec{c_1} & \\vec{c_2}\\\\\n",
    "\\downarrow & \\downarrow\n",
    "\\end{bmatrix}\n",
    "\\cdot\n",
    "\\begin{bmatrix}\n",
    "x_1\\\\\n",
    "x_2\n",
    "\\end{bmatrix}\n",
    "=\n",
    "x_1\\cdot\n",
    "\\begin{bmatrix}\n",
    "\\uparrow\\\\\n",
    "\\vec{c_1}\\\\\n",
    "\\downarrow\n",
    "\\end{bmatrix}\n",
    "+\n",
    "x_2\\cdot\n",
    "\\begin{bmatrix}\n",
    "\\uparrow\\\\\n",
    "\\vec{c_2}\\\\\n",
    "\\downarrow\n",
    "\\end{bmatrix}\n",
    "$$\n",
    "## Which can be further written as:\n",
    "$$\n",
    "\\huge\n",
    "\\begin{bmatrix}\n",
    "\\begin{bmatrix}\n",
    "1\\\\\n",
    "2\n",
    "\\end{bmatrix}\n",
    "\\begin{bmatrix}\n",
    "3\\\\\n",
    "4\n",
    "\\end{bmatrix}\n",
    "\\end{bmatrix}\n",
    "\\cdot\n",
    "\\begin{bmatrix}\n",
    "1\\\\\n",
    "1\n",
    "\\end{bmatrix}\n",
    "=\n",
    "1\\cdot\n",
    "\\begin{bmatrix}\n",
    "1\\\\\n",
    "2\n",
    "\\end{bmatrix}\n",
    "+\n",
    "1\\cdot\n",
    "\\begin{bmatrix}\n",
    "3\\\\\n",
    "4\n",
    "\\end{bmatrix}\n",
    "=\n",
    "\\begin{bmatrix}\n",
    "4\\\\\n",
    "6\n",
    "\\end{bmatrix}\n",
    "$$\n",
    "## Where:\n",
    "$$\n",
    "\\huge\n",
    "\\vec{c_1} = \n",
    "\\begin{bmatrix}\n",
    "1\\\\\n",
    "2\n",
    "\\end{bmatrix}\n",
    "$$\n",
    "## and\n",
    "$$\n",
    "\\huge\n",
    "\\vec{c_2} =\n",
    "\\begin{bmatrix}\n",
    "3\\\\\n",
    "4\n",
    "\\end{bmatrix}\n",
    "$$"
   ]
  },
  {
   "cell_type": "markdown",
   "id": "84e62b9a",
   "metadata": {},
   "source": [
    "## Let's do matrix multiplication through ```numpy``` libary to verify our result:"
   ]
  },
  {
   "cell_type": "code",
   "execution_count": 3,
   "id": "3067bafa",
   "metadata": {},
   "outputs": [],
   "source": [
    "A = np.array([[1,3],\n",
    "              [2,4]])\n",
    "x = np.array([[1],\n",
    "              [1]])\n",
    "b = np.matmul(A,x)"
   ]
  },
  {
   "cell_type": "code",
   "execution_count": 4,
   "id": "5b7ffb75",
   "metadata": {},
   "outputs": [
    {
     "name": "stdout",
     "output_type": "stream",
     "text": [
      "[[4]\n",
      " [6]]\n"
     ]
    }
   ],
   "source": [
    "print(b)"
   ]
  },
  {
   "cell_type": "code",
   "execution_count": 6,
   "id": "b594e4ce",
   "metadata": {},
   "outputs": [
    {
     "data": {
      "image/png": "[encoded data removed]",
      "text/plain": [
       "<Figure size 500x500 with 1 Axes>"
      ]
     },
     "metadata": {},
     "output_type": "display_data"
    }
   ],
   "source": [
    "x = np.array([[1],\n",
    "              [1]])\n",
    "b = np.array([[4],\n",
    "              [6]])\n",
    "\n",
    "fig, ax = plt.subplots(figsize=(5,5))\n",
    "ax.axhline(0, color='lightgray', linewidth=1)\n",
    "ax.axvline(0, color='lightgray', linewidth=1)\n",
    "\n",
    "# plot arrows (origin -> vector)\n",
    "ax.quiver(0,0,x[0,0],x[1,0], angles='xy', scale_units='xy', scale=1)\n",
    "ax.quiver(0,0,b[0,0],b[1,0], angles='xy', scale_units='xy', scale=1)\n",
    "\n",
    "# annotate with LaTeX labels\n",
    "ax.text(x[0,0]+0.1, x[1,0]+0.1, r'$\\vec{x}=(1,1)$', fontsize=12)\n",
    "ax.text(b[0,0]+0.1, b[1,0]+0.1, r'$\\vec{b}=(4,6)$', fontsize=12)\n",
    "\n",
    "ax.set_xlim(0, 6)\n",
    "ax.set_ylim(0, 6)\n",
    "ax.set_aspect('equal', 'box')\n",
    "ax.grid(True, linestyle='--', linewidth=0.5)\n",
    "ax.set_xlabel('x')\n",
    "ax.set_ylabel('y')\n",
    "ax.set_title('Vectors $\\\\vec{x}$ and $\\\\vec{b}$')\n",
    "plt.show()"
   ]
  },
  {
   "cell_type": "code",
   "execution_count": null,
   "id": "ec2a5aea",
   "metadata": {},
   "outputs": [],
   "source": []
  }
 ],
 "metadata": {
  "kernelspec": {
   "display_name": ".venv",
   "language": "python",
   "name": "python3"
  },
  "language_info": {
   "codemirror_mode": {
    "name": "ipython",
    "version": 3
   },
   "file_extension": ".py",
   "mimetype": "text/x-python",
   "name": "python",
   "nbconvert_exporter": "python",
   "pygments_lexer": "ipython3",
   "version": "3.12.3"
  }
 },
 "nbformat": 4,
 "nbformat_minor": 5
}
